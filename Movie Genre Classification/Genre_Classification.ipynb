{
 "cells": [
  {
   "cell_type": "code",
   "execution_count": 1,
   "id": "94630fd9-7fbb-400d-9449-e4cb3ff0bbb0",
   "metadata": {},
   "outputs": [],
   "source": [
    "import re\n",
    "import pandas as pd\n",
    "\n",
    "train_data_path = 'Genre Classification Dataset/train_data.txt'\n",
    "test_data_path = 'Genre Classification Dataset/test_data.txt'\n",
    "test_data_soln_path = 'Genre Classification Dataset/test_data_solution.txt'\n",
    "\n",
    "train = pd.read_csv(train_data_path, sep=':::', engine='python', names=['index', 'movie_title', 'genres', 'plot_summary'])\n",
    "test = pd.read_csv(test_data_path, sep=':::', engine='python', names=['index', 'movie_title', 'plot_summary'])\n",
    "test_solution = pd.read_csv(test_data_soln_path, sep=':::', engine='python', names=['index', 'movie_title', 'genres', 'plot_summary'])\n",
    "\n",
    "def clean_text(text):\n",
    "    # Convert to lowercase\n",
    "    text = text.lower()\n",
    "    # Remove special characters and punctuation\n",
    "    text = re.sub(r'[^a-z\\s]', '', text)\n",
    "    # Remove extra whitespaces\n",
    "    text = ' '.join(text.split())\n",
    "    \n",
    "    return text\n",
    "\n",
    "train['clean_plot_summary'] = train['plot_summary'].apply(clean_text)\n",
    "test['clean_plot_summary'] = test['plot_summary'].apply(clean_text)"
   ]
  },
  {
   "cell_type": "code",
   "execution_count": 2,
   "id": "3a76d85b-9379-4ad7-afc5-382d3efcf173",
   "metadata": {},
   "outputs": [
    {
     "data": {
      "text/html": [
       "<div>\n",
       "<style scoped>\n",
       "    .dataframe tbody tr th:only-of-type {\n",
       "        vertical-align: middle;\n",
       "    }\n",
       "\n",
       "    .dataframe tbody tr th {\n",
       "        vertical-align: top;\n",
       "    }\n",
       "\n",
       "    .dataframe thead th {\n",
       "        text-align: right;\n",
       "    }\n",
       "</style>\n",
       "<table border=\"1\" class=\"dataframe\">\n",
       "  <thead>\n",
       "    <tr style=\"text-align: right;\">\n",
       "      <th></th>\n",
       "      <th>clean_plot_summary</th>\n",
       "      <th>genres_encoded</th>\n",
       "    </tr>\n",
       "  </thead>\n",
       "  <tbody>\n",
       "    <tr>\n",
       "      <th>0</th>\n",
       "      <td>listening in to a conversation between his doc...</td>\n",
       "      <td>1</td>\n",
       "    </tr>\n",
       "    <tr>\n",
       "      <th>1</th>\n",
       "      <td>a brother and sister with a past incestuous re...</td>\n",
       "      <td>6</td>\n",
       "    </tr>\n",
       "    <tr>\n",
       "      <th>2</th>\n",
       "      <td>as the bus empties the students for their fiel...</td>\n",
       "      <td>15</td>\n",
       "    </tr>\n",
       "    <tr>\n",
       "      <th>3</th>\n",
       "      <td>to help their unemployed father make ends meet...</td>\n",
       "      <td>1</td>\n",
       "    </tr>\n",
       "    <tr>\n",
       "      <th>4</th>\n",
       "      <td>the films title refers not only to the unrecov...</td>\n",
       "      <td>1</td>\n",
       "    </tr>\n",
       "  </tbody>\n",
       "</table>\n",
       "</div>"
      ],
      "text/plain": [
       "                                  clean_plot_summary  genres_encoded\n",
       "0  listening in to a conversation between his doc...               1\n",
       "1  a brother and sister with a past incestuous re...               6\n",
       "2  as the bus empties the students for their fiel...              15\n",
       "3  to help their unemployed father make ends meet...               1\n",
       "4  the films title refers not only to the unrecov...               1"
      ]
     },
     "execution_count": 2,
     "metadata": {},
     "output_type": "execute_result"
    }
   ],
   "source": [
    "genre_mapping = {\n",
    "    'drama': 1,\n",
    "    'documentary': 2,\n",
    "    'comedy': 3,\n",
    "    'short': 4,\n",
    "    'horror': 5,\n",
    "    'thriller': 6,\n",
    "    'action': 7,\n",
    "    'western': 8,\n",
    "    'reality-tv': 9,\n",
    "    'family': 10,\n",
    "    'adventure': 11,\n",
    "    'music': 12,\n",
    "    'romance': 13,\n",
    "    'sci-fi': 14,\n",
    "    'adult': 15,\n",
    "    'crime': 16,\n",
    "    'animation': 17,\n",
    "    'sport': 18,\n",
    "    'talk-show': 19,\n",
    "    'fantasy': 20,\n",
    "    'mystery': 21,\n",
    "    'musical': 22,\n",
    "    'biography': 23,\n",
    "    'history': 24,\n",
    "    'game-show': 25,\n",
    "    'news': 26,\n",
    "    'war': 27\n",
    "}\n",
    "\n",
    "train['genres'] = train['genres'].str.strip()\n",
    "train.dropna(subset=['genres'], inplace=True)\n",
    "train['genres_encoded'] = train.genres.map(genre_mapping)\n",
    "train.drop(['movie_title', 'index', 'plot_summary', 'genres'], axis=1, inplace=True)\n",
    "train.head()"
   ]
  },
  {
   "cell_type": "code",
   "execution_count": 3,
   "id": "2738ccd5-549a-42f7-9963-1c9ff68f1a46",
   "metadata": {},
   "outputs": [
    {
     "data": {
      "text/html": [
       "<div>\n",
       "<style scoped>\n",
       "    .dataframe tbody tr th:only-of-type {\n",
       "        vertical-align: middle;\n",
       "    }\n",
       "\n",
       "    .dataframe tbody tr th {\n",
       "        vertical-align: top;\n",
       "    }\n",
       "\n",
       "    .dataframe thead th {\n",
       "        text-align: right;\n",
       "    }\n",
       "</style>\n",
       "<table border=\"1\" class=\"dataframe\">\n",
       "  <thead>\n",
       "    <tr style=\"text-align: right;\">\n",
       "      <th></th>\n",
       "      <th>clean_plot_summary</th>\n",
       "    </tr>\n",
       "  </thead>\n",
       "  <tbody>\n",
       "    <tr>\n",
       "      <th>0</th>\n",
       "      <td>lr brane loves his life his car his apartment ...</td>\n",
       "    </tr>\n",
       "    <tr>\n",
       "      <th>1</th>\n",
       "      <td>spain march quico is a very naughty child of t...</td>\n",
       "    </tr>\n",
       "    <tr>\n",
       "      <th>2</th>\n",
       "      <td>one year in the life of albin and his family o...</td>\n",
       "    </tr>\n",
       "    <tr>\n",
       "      <th>3</th>\n",
       "      <td>his father has died he hasnt spoken with his b...</td>\n",
       "    </tr>\n",
       "    <tr>\n",
       "      <th>4</th>\n",
       "      <td>before he was known internationally as a marti...</td>\n",
       "    </tr>\n",
       "  </tbody>\n",
       "</table>\n",
       "</div>"
      ],
      "text/plain": [
       "                                  clean_plot_summary\n",
       "0  lr brane loves his life his car his apartment ...\n",
       "1  spain march quico is a very naughty child of t...\n",
       "2  one year in the life of albin and his family o...\n",
       "3  his father has died he hasnt spoken with his b...\n",
       "4  before he was known internationally as a marti..."
      ]
     },
     "execution_count": 3,
     "metadata": {},
     "output_type": "execute_result"
    }
   ],
   "source": [
    "test.drop(['movie_title', 'index', 'plot_summary'], axis=1, inplace=True)\n",
    "test.head()"
   ]
  },
  {
   "cell_type": "code",
   "execution_count": 4,
   "id": "c2ec6151-dc60-4755-9c20-02cea72b482c",
   "metadata": {},
   "outputs": [
    {
     "data": {
      "text/html": [
       "<div>\n",
       "<style scoped>\n",
       "    .dataframe tbody tr th:only-of-type {\n",
       "        vertical-align: middle;\n",
       "    }\n",
       "\n",
       "    .dataframe tbody tr th {\n",
       "        vertical-align: top;\n",
       "    }\n",
       "\n",
       "    .dataframe thead th {\n",
       "        text-align: right;\n",
       "    }\n",
       "</style>\n",
       "<table border=\"1\" class=\"dataframe\">\n",
       "  <thead>\n",
       "    <tr style=\"text-align: right;\">\n",
       "      <th></th>\n",
       "      <th>genres_encoded</th>\n",
       "    </tr>\n",
       "  </thead>\n",
       "  <tbody>\n",
       "    <tr>\n",
       "      <th>0</th>\n",
       "      <td>6</td>\n",
       "    </tr>\n",
       "    <tr>\n",
       "      <th>1</th>\n",
       "      <td>3</td>\n",
       "    </tr>\n",
       "    <tr>\n",
       "      <th>2</th>\n",
       "      <td>2</td>\n",
       "    </tr>\n",
       "    <tr>\n",
       "      <th>3</th>\n",
       "      <td>1</td>\n",
       "    </tr>\n",
       "    <tr>\n",
       "      <th>4</th>\n",
       "      <td>1</td>\n",
       "    </tr>\n",
       "  </tbody>\n",
       "</table>\n",
       "</div>"
      ],
      "text/plain": [
       "   genres_encoded\n",
       "0               6\n",
       "1               3\n",
       "2               2\n",
       "3               1\n",
       "4               1"
      ]
     },
     "execution_count": 4,
     "metadata": {},
     "output_type": "execute_result"
    }
   ],
   "source": [
    "test_solution['genres'] = test_solution['genres'].str.strip()\n",
    "test_solution.dropna(subset=['genres'], inplace=True)\n",
    "test_solution['genres_encoded'] = test_solution.genres.map(genre_mapping)\n",
    "test_solution.drop(['movie_title', 'index', 'plot_summary', 'genres'], axis=1, inplace=True)\n",
    "test_solution.head()"
   ]
  },
  {
   "cell_type": "code",
   "execution_count": 5,
   "id": "3551a78a-0d93-4c98-83aa-035c53ff8d19",
   "metadata": {},
   "outputs": [
    {
     "data": {
      "text/plain": [
       "genres_encoded\n",
       "1     13613\n",
       "2     13096\n",
       "3      7447\n",
       "4      5073\n",
       "5      2204\n",
       "6      1591\n",
       "7      1315\n",
       "8      1032\n",
       "9       884\n",
       "10      784\n",
       "11      775\n",
       "12      731\n",
       "13      672\n",
       "14      647\n",
       "15      590\n",
       "16      505\n",
       "17      498\n",
       "18      432\n",
       "19      391\n",
       "20      323\n",
       "21      319\n",
       "22      277\n",
       "23      265\n",
       "24      243\n",
       "25      194\n",
       "26      181\n",
       "27      132\n",
       "Name: count, dtype: int64"
      ]
     },
     "execution_count": 5,
     "metadata": {},
     "output_type": "execute_result"
    }
   ],
   "source": [
    "train.genres_encoded.value_counts()"
   ]
  },
  {
   "cell_type": "code",
   "execution_count": 6,
   "id": "e7d37822-58ba-46b4-a7dc-f7cad6322630",
   "metadata": {},
   "outputs": [],
   "source": [
    "from sklearn.model_selection import train_test_split\n",
    "X_train, X_test, Y_train, Y_test = train_test_split(train['clean_plot_summary'], train['genres_encoded'], test_size=0.25, random_state=47, stratify=train.genres_encoded) #25% of data to be used as the test set"
   ]
  },
  {
   "cell_type": "code",
   "execution_count": 7,
   "id": "6b70a9fd-f2a4-46e9-b3f4-fa7798e52448",
   "metadata": {},
   "outputs": [],
   "source": [
    "from sklearn.feature_extraction.text import TfidfVectorizer\n",
    "\n",
    "# TF-IDF Vectorization of Training set and Testing set\n",
    "tfidf_vectorizer = TfidfVectorizer(stop_words='english')\n",
    "X_train_tfidf = tfidf_vectorizer.fit_transform(X_train)\n",
    "X_test_tfidf = tfidf_vectorizer.transform(X_test)"
   ]
  },
  {
   "cell_type": "code",
   "execution_count": 8,
   "id": "7310e289-d264-4fda-8f02-2cd35f319d56",
   "metadata": {},
   "outputs": [
    {
     "data": {
      "text/html": [
       "<style>#sk-container-id-1 {color: black;}#sk-container-id-1 pre{padding: 0;}#sk-container-id-1 div.sk-toggleable {background-color: white;}#sk-container-id-1 label.sk-toggleable__label {cursor: pointer;display: block;width: 100%;margin-bottom: 0;padding: 0.3em;box-sizing: border-box;text-align: center;}#sk-container-id-1 label.sk-toggleable__label-arrow:before {content: \"▸\";float: left;margin-right: 0.25em;color: #696969;}#sk-container-id-1 label.sk-toggleable__label-arrow:hover:before {color: black;}#sk-container-id-1 div.sk-estimator:hover label.sk-toggleable__label-arrow:before {color: black;}#sk-container-id-1 div.sk-toggleable__content {max-height: 0;max-width: 0;overflow: hidden;text-align: left;background-color: #f0f8ff;}#sk-container-id-1 div.sk-toggleable__content pre {margin: 0.2em;color: black;border-radius: 0.25em;background-color: #f0f8ff;}#sk-container-id-1 input.sk-toggleable__control:checked~div.sk-toggleable__content {max-height: 200px;max-width: 100%;overflow: auto;}#sk-container-id-1 input.sk-toggleable__control:checked~label.sk-toggleable__label-arrow:before {content: \"▾\";}#sk-container-id-1 div.sk-estimator input.sk-toggleable__control:checked~label.sk-toggleable__label {background-color: #d4ebff;}#sk-container-id-1 div.sk-label input.sk-toggleable__control:checked~label.sk-toggleable__label {background-color: #d4ebff;}#sk-container-id-1 input.sk-hidden--visually {border: 0;clip: rect(1px 1px 1px 1px);clip: rect(1px, 1px, 1px, 1px);height: 1px;margin: -1px;overflow: hidden;padding: 0;position: absolute;width: 1px;}#sk-container-id-1 div.sk-estimator {font-family: monospace;background-color: #f0f8ff;border: 1px dotted black;border-radius: 0.25em;box-sizing: border-box;margin-bottom: 0.5em;}#sk-container-id-1 div.sk-estimator:hover {background-color: #d4ebff;}#sk-container-id-1 div.sk-parallel-item::after {content: \"\";width: 100%;border-bottom: 1px solid gray;flex-grow: 1;}#sk-container-id-1 div.sk-label:hover label.sk-toggleable__label {background-color: #d4ebff;}#sk-container-id-1 div.sk-serial::before {content: \"\";position: absolute;border-left: 1px solid gray;box-sizing: border-box;top: 0;bottom: 0;left: 50%;z-index: 0;}#sk-container-id-1 div.sk-serial {display: flex;flex-direction: column;align-items: center;background-color: white;padding-right: 0.2em;padding-left: 0.2em;position: relative;}#sk-container-id-1 div.sk-item {position: relative;z-index: 1;}#sk-container-id-1 div.sk-parallel {display: flex;align-items: stretch;justify-content: center;background-color: white;position: relative;}#sk-container-id-1 div.sk-item::before, #sk-container-id-1 div.sk-parallel-item::before {content: \"\";position: absolute;border-left: 1px solid gray;box-sizing: border-box;top: 0;bottom: 0;left: 50%;z-index: -1;}#sk-container-id-1 div.sk-parallel-item {display: flex;flex-direction: column;z-index: 1;position: relative;background-color: white;}#sk-container-id-1 div.sk-parallel-item:first-child::after {align-self: flex-end;width: 50%;}#sk-container-id-1 div.sk-parallel-item:last-child::after {align-self: flex-start;width: 50%;}#sk-container-id-1 div.sk-parallel-item:only-child::after {width: 0;}#sk-container-id-1 div.sk-dashed-wrapped {border: 1px dashed gray;margin: 0 0.4em 0.5em 0.4em;box-sizing: border-box;padding-bottom: 0.4em;background-color: white;}#sk-container-id-1 div.sk-label label {font-family: monospace;font-weight: bold;display: inline-block;line-height: 1.2em;}#sk-container-id-1 div.sk-label-container {text-align: center;}#sk-container-id-1 div.sk-container {/* jupyter's `normalize.less` sets `[hidden] { display: none; }` but bootstrap.min.css set `[hidden] { display: none !important; }` so we also need the `!important` here to be able to override the default hidden behavior on the sphinx rendered scikit-learn.org. See: https://github.com/scikit-learn/scikit-learn/issues/21755 */display: inline-block !important;position: relative;}#sk-container-id-1 div.sk-text-repr-fallback {display: none;}</style><div id=\"sk-container-id-1\" class=\"sk-top-container\"><div class=\"sk-text-repr-fallback\"><pre>MultinomialNB()</pre><b>In a Jupyter environment, please rerun this cell to show the HTML representation or trust the notebook. <br />On GitHub, the HTML representation is unable to render, please try loading this page with nbviewer.org.</b></div><div class=\"sk-container\" hidden><div class=\"sk-item\"><div class=\"sk-estimator sk-toggleable\"><input class=\"sk-toggleable__control sk-hidden--visually\" id=\"sk-estimator-id-1\" type=\"checkbox\" checked><label for=\"sk-estimator-id-1\" class=\"sk-toggleable__label sk-toggleable__label-arrow\">MultinomialNB</label><div class=\"sk-toggleable__content\"><pre>MultinomialNB()</pre></div></div></div></div></div>"
      ],
      "text/plain": [
       "MultinomialNB()"
      ]
     },
     "execution_count": 8,
     "metadata": {},
     "output_type": "execute_result"
    }
   ],
   "source": [
    "from sklearn.naive_bayes import MultinomialNB\n",
    "\n",
    "# Using Naive Bayes classifier\n",
    "naiveBayes_model = MultinomialNB()\n",
    "naiveBayes_model.fit(X_train_tfidf, Y_train)"
   ]
  },
  {
   "cell_type": "code",
   "execution_count": 9,
   "id": "e3a8aabf-0045-4ced-819f-70a38249d9e9",
   "metadata": {},
   "outputs": [
    {
     "name": "stdout",
     "output_type": "stream",
     "text": [
      "Accuracy: 0.44\n",
      "Classification Report:\n",
      "               precision    recall  f1-score   support\n",
      "\n",
      "           1       0.38      0.88      0.53      3403\n",
      "           2       0.53      0.90      0.66      3274\n",
      "           3       0.71      0.04      0.07      1862\n",
      "           4       1.00      0.00      0.00      1268\n",
      "           5       1.00      0.00      0.00       551\n",
      "           6       1.00      0.00      0.00       398\n",
      "           7       1.00      0.00      0.00       329\n",
      "           8       1.00      0.00      0.00       258\n",
      "           9       1.00      0.00      0.00       221\n",
      "          10       1.00      0.00      0.00       196\n",
      "          11       1.00      0.00      0.00       194\n",
      "          12       1.00      0.00      0.00       183\n",
      "          13       1.00      0.00      0.00       168\n",
      "          14       1.00      0.00      0.00       162\n",
      "          15       1.00      0.00      0.00       148\n",
      "          16       1.00      0.00      0.00       126\n",
      "          17       1.00      0.00      0.00       124\n",
      "          18       1.00      0.00      0.00       108\n",
      "          19       1.00      0.00      0.00        98\n",
      "          20       1.00      0.00      0.00        81\n",
      "          21       1.00      0.00      0.00        80\n",
      "          22       1.00      0.00      0.00        69\n",
      "          23       1.00      0.00      0.00        66\n",
      "          24       1.00      0.00      0.00        61\n",
      "          25       1.00      0.00      0.00        48\n",
      "          26       1.00      0.00      0.00        45\n",
      "          27       1.00      0.00      0.00        33\n",
      "\n",
      "    accuracy                           0.44     13554\n",
      "   macro avg       0.95      0.07      0.05     13554\n",
      "weighted avg       0.69      0.44      0.30     13554\n",
      "\n"
     ]
    }
   ],
   "source": [
    "from sklearn.metrics import accuracy_score, classification_report\n",
    "\n",
    "y_predicted = naiveBayes_model.predict(X_test_tfidf)\n",
    "accuracy = accuracy_score(Y_test, y_predicted)\n",
    "print(f'Accuracy: {accuracy:.2f}')\n",
    "\n",
    "classification_rep = classification_report(Y_test, y_predicted, zero_division=1)\n",
    "print('Classification Report:\\n', classification_rep)"
   ]
  },
  {
   "cell_type": "code",
   "execution_count": 10,
   "id": "d0d2df5f-8a8f-45b9-a546-6686eaa9e916",
   "metadata": {},
   "outputs": [
    {
     "name": "stdout",
     "output_type": "stream",
     "text": [
      "Accuracy of Tested solution: 0.44\n",
      "Classification Report:\n",
      "               precision    recall  f1-score   support\n",
      "\n",
      "           1       0.38      0.88      0.53     13612\n",
      "           2       0.53      0.90      0.66     13096\n",
      "           3       0.67      0.04      0.07      7446\n",
      "           4       1.00      0.00      0.01      5072\n",
      "           5       1.00      0.00      0.00      2204\n",
      "           6       1.00      0.00      0.00      1590\n",
      "           7       1.00      0.00      0.00      1314\n",
      "           8       1.00      0.00      0.00      1032\n",
      "           9       1.00      0.00      0.00       883\n",
      "          10       1.00      0.00      0.00       783\n",
      "          11       1.00      0.00      0.00       775\n",
      "          12       1.00      0.00      0.00       731\n",
      "          13       1.00      0.00      0.00       672\n",
      "          14       1.00      0.00      0.00       646\n",
      "          15       1.00      0.00      0.00       590\n",
      "          16       1.00      0.00      0.00       505\n",
      "          17       1.00      0.00      0.00       498\n",
      "          18       1.00      0.00      0.00       431\n",
      "          19       1.00      0.00      0.00       391\n",
      "          20       1.00      0.00      0.00       322\n",
      "          21       1.00      0.00      0.00       318\n",
      "          22       1.00      0.00      0.00       276\n",
      "          23       1.00      0.00      0.00       264\n",
      "          24       1.00      0.00      0.00       243\n",
      "          25       1.00      0.00      0.00       193\n",
      "          26       1.00      0.00      0.00       181\n",
      "          27       1.00      0.00      0.00       132\n",
      "\n",
      "    accuracy                           0.44     54200\n",
      "   macro avg       0.95      0.07      0.05     54200\n",
      "weighted avg       0.68      0.44      0.30     54200\n",
      "\n"
     ]
    }
   ],
   "source": [
    "# Testing Naive Bayes model on test data set\n",
    "test_tfidf = tfidf_vectorizer.transform(test['clean_plot_summary'])\n",
    "predicted_result = naiveBayes_model.predict(test_tfidf)\n",
    "test_solution['genres_encoded'] = test_solution['genres_encoded'].astype('int64')\n",
    "\n",
    "accuracy = accuracy_score(test_solution['genres_encoded'], predicted_result)\n",
    "print(f'Accuracy of Tested solution: {accuracy:.2f}')\n",
    "classification_rep = classification_report(test_solution['genres_encoded'], predicted_result, zero_division=1)\n",
    "print('Classification Report:\\n', classification_rep)"
   ]
  },
  {
   "cell_type": "code",
   "execution_count": 11,
   "id": "e37eb77e-ba0d-4cc5-96f7-1e4438b26178",
   "metadata": {},
   "outputs": [
    {
     "data": {
      "text/html": [
       "<style>#sk-container-id-2 {color: black;}#sk-container-id-2 pre{padding: 0;}#sk-container-id-2 div.sk-toggleable {background-color: white;}#sk-container-id-2 label.sk-toggleable__label {cursor: pointer;display: block;width: 100%;margin-bottom: 0;padding: 0.3em;box-sizing: border-box;text-align: center;}#sk-container-id-2 label.sk-toggleable__label-arrow:before {content: \"▸\";float: left;margin-right: 0.25em;color: #696969;}#sk-container-id-2 label.sk-toggleable__label-arrow:hover:before {color: black;}#sk-container-id-2 div.sk-estimator:hover label.sk-toggleable__label-arrow:before {color: black;}#sk-container-id-2 div.sk-toggleable__content {max-height: 0;max-width: 0;overflow: hidden;text-align: left;background-color: #f0f8ff;}#sk-container-id-2 div.sk-toggleable__content pre {margin: 0.2em;color: black;border-radius: 0.25em;background-color: #f0f8ff;}#sk-container-id-2 input.sk-toggleable__control:checked~div.sk-toggleable__content {max-height: 200px;max-width: 100%;overflow: auto;}#sk-container-id-2 input.sk-toggleable__control:checked~label.sk-toggleable__label-arrow:before {content: \"▾\";}#sk-container-id-2 div.sk-estimator input.sk-toggleable__control:checked~label.sk-toggleable__label {background-color: #d4ebff;}#sk-container-id-2 div.sk-label input.sk-toggleable__control:checked~label.sk-toggleable__label {background-color: #d4ebff;}#sk-container-id-2 input.sk-hidden--visually {border: 0;clip: rect(1px 1px 1px 1px);clip: rect(1px, 1px, 1px, 1px);height: 1px;margin: -1px;overflow: hidden;padding: 0;position: absolute;width: 1px;}#sk-container-id-2 div.sk-estimator {font-family: monospace;background-color: #f0f8ff;border: 1px dotted black;border-radius: 0.25em;box-sizing: border-box;margin-bottom: 0.5em;}#sk-container-id-2 div.sk-estimator:hover {background-color: #d4ebff;}#sk-container-id-2 div.sk-parallel-item::after {content: \"\";width: 100%;border-bottom: 1px solid gray;flex-grow: 1;}#sk-container-id-2 div.sk-label:hover label.sk-toggleable__label {background-color: #d4ebff;}#sk-container-id-2 div.sk-serial::before {content: \"\";position: absolute;border-left: 1px solid gray;box-sizing: border-box;top: 0;bottom: 0;left: 50%;z-index: 0;}#sk-container-id-2 div.sk-serial {display: flex;flex-direction: column;align-items: center;background-color: white;padding-right: 0.2em;padding-left: 0.2em;position: relative;}#sk-container-id-2 div.sk-item {position: relative;z-index: 1;}#sk-container-id-2 div.sk-parallel {display: flex;align-items: stretch;justify-content: center;background-color: white;position: relative;}#sk-container-id-2 div.sk-item::before, #sk-container-id-2 div.sk-parallel-item::before {content: \"\";position: absolute;border-left: 1px solid gray;box-sizing: border-box;top: 0;bottom: 0;left: 50%;z-index: -1;}#sk-container-id-2 div.sk-parallel-item {display: flex;flex-direction: column;z-index: 1;position: relative;background-color: white;}#sk-container-id-2 div.sk-parallel-item:first-child::after {align-self: flex-end;width: 50%;}#sk-container-id-2 div.sk-parallel-item:last-child::after {align-self: flex-start;width: 50%;}#sk-container-id-2 div.sk-parallel-item:only-child::after {width: 0;}#sk-container-id-2 div.sk-dashed-wrapped {border: 1px dashed gray;margin: 0 0.4em 0.5em 0.4em;box-sizing: border-box;padding-bottom: 0.4em;background-color: white;}#sk-container-id-2 div.sk-label label {font-family: monospace;font-weight: bold;display: inline-block;line-height: 1.2em;}#sk-container-id-2 div.sk-label-container {text-align: center;}#sk-container-id-2 div.sk-container {/* jupyter's `normalize.less` sets `[hidden] { display: none; }` but bootstrap.min.css set `[hidden] { display: none !important; }` so we also need the `!important` here to be able to override the default hidden behavior on the sphinx rendered scikit-learn.org. See: https://github.com/scikit-learn/scikit-learn/issues/21755 */display: inline-block !important;position: relative;}#sk-container-id-2 div.sk-text-repr-fallback {display: none;}</style><div id=\"sk-container-id-2\" class=\"sk-top-container\"><div class=\"sk-text-repr-fallback\"><pre>LogisticRegression(max_iter=400)</pre><b>In a Jupyter environment, please rerun this cell to show the HTML representation or trust the notebook. <br />On GitHub, the HTML representation is unable to render, please try loading this page with nbviewer.org.</b></div><div class=\"sk-container\" hidden><div class=\"sk-item\"><div class=\"sk-estimator sk-toggleable\"><input class=\"sk-toggleable__control sk-hidden--visually\" id=\"sk-estimator-id-2\" type=\"checkbox\" checked><label for=\"sk-estimator-id-2\" class=\"sk-toggleable__label sk-toggleable__label-arrow\">LogisticRegression</label><div class=\"sk-toggleable__content\"><pre>LogisticRegression(max_iter=400)</pre></div></div></div></div></div>"
      ],
      "text/plain": [
       "LogisticRegression(max_iter=400)"
      ]
     },
     "execution_count": 11,
     "metadata": {},
     "output_type": "execute_result"
    }
   ],
   "source": [
    "from sklearn.linear_model import LogisticRegression\n",
    "\n",
    "# Using Logistic Regression classifier\n",
    "logistic_regression_model = LogisticRegression(max_iter=400)\n",
    "logistic_regression_model.fit(X_train_tfidf, Y_train)"
   ]
  },
  {
   "cell_type": "code",
   "execution_count": 12,
   "id": "1625bf2a-b0e7-4eb3-bae8-0e5a9e3d48c2",
   "metadata": {},
   "outputs": [
    {
     "name": "stdout",
     "output_type": "stream",
     "text": [
      "Accuracy: 0.57\n",
      "Classification Report:\n",
      "               precision    recall  f1-score   support\n",
      "\n",
      "           1       0.53      0.80      0.64      3403\n",
      "           2       0.64      0.88      0.74      3274\n",
      "           3       0.53      0.58      0.55      1862\n",
      "           4       0.48      0.24      0.32      1268\n",
      "           5       0.66      0.50      0.57       551\n",
      "           6       0.33      0.09      0.14       398\n",
      "           7       0.52      0.18      0.26       329\n",
      "           8       0.94      0.66      0.77       258\n",
      "           9       0.49      0.10      0.17       221\n",
      "          10       0.37      0.04      0.07       196\n",
      "          11       0.79      0.13      0.23       194\n",
      "          12       0.75      0.37      0.49       183\n",
      "          13       0.00      0.00      1.00       168\n",
      "          14       0.64      0.18      0.28       162\n",
      "          15       0.84      0.21      0.34       148\n",
      "          16       0.50      0.01      0.02       126\n",
      "          17       0.83      0.04      0.08       124\n",
      "          18       0.76      0.18      0.29       108\n",
      "          19       0.20      0.01      0.02        98\n",
      "          20       1.00      0.00      0.00        81\n",
      "          21       1.00      0.00      0.00        80\n",
      "          22       1.00      0.00      0.00        69\n",
      "          23       1.00      0.00      0.00        66\n",
      "          24       1.00      0.00      0.00        61\n",
      "          25       0.91      0.44      0.59        48\n",
      "          26       0.00      0.00      1.00        45\n",
      "          27       1.00      0.00      0.00        33\n",
      "\n",
      "    accuracy                           0.57     13554\n",
      "   macro avg       0.66      0.21      0.32     13554\n",
      "weighted avg       0.57      0.57      0.53     13554\n",
      "\n"
     ]
    }
   ],
   "source": [
    "from sklearn.metrics import accuracy_score, classification_report\n",
    "y_predicted = logistic_regression_model.predict(X_test_tfidf)\n",
    "accuracy = accuracy_score(Y_test, y_predicted)\n",
    "print(f'Accuracy: {accuracy:.2f}')\n",
    "\n",
    "classification_rep = classification_report(Y_test, y_predicted, zero_division=1)\n",
    "print('Classification Report:\\n', classification_rep)"
   ]
  },
  {
   "cell_type": "code",
   "execution_count": 13,
   "id": "45396943-0386-4c59-9ed6-2838f4697d62",
   "metadata": {},
   "outputs": [
    {
     "name": "stdout",
     "output_type": "stream",
     "text": [
      "Accuracy of Tested solution: 0.58\n",
      "Classification Report:\n",
      "               precision    recall  f1-score   support\n",
      "\n",
      "           1       0.52      0.80      0.63     13612\n",
      "           2       0.64      0.88      0.74     13096\n",
      "           3       0.53      0.57      0.55      7446\n",
      "           4       0.52      0.29      0.37      5072\n",
      "           5       0.66      0.54      0.59      2204\n",
      "           6       0.38      0.09      0.14      1590\n",
      "           7       0.56      0.21      0.31      1314\n",
      "           8       0.93      0.66      0.77      1032\n",
      "           9       0.49      0.09      0.16       883\n",
      "          10       0.60      0.04      0.08       783\n",
      "          11       0.75      0.12      0.21       775\n",
      "          12       0.71      0.36      0.48       731\n",
      "          13       0.30      0.00      0.01       672\n",
      "          14       0.63      0.17      0.27       646\n",
      "          15       0.59      0.15      0.24       590\n",
      "          16       0.40      0.01      0.02       505\n",
      "          17       0.30      0.01      0.01       498\n",
      "          18       0.81      0.16      0.26       431\n",
      "          19       0.71      0.07      0.13       391\n",
      "          20       1.00      0.00      0.00       322\n",
      "          21       1.00      0.00      0.00       318\n",
      "          22       1.00      0.00      0.00       276\n",
      "          23       1.00      0.00      0.00       264\n",
      "          24       1.00      0.00      0.00       243\n",
      "          25       0.92      0.44      0.60       193\n",
      "          26       0.83      0.03      0.05       181\n",
      "          27       1.00      0.00      0.00       132\n",
      "\n",
      "    accuracy                           0.58     54200\n",
      "   macro avg       0.70      0.21      0.24     54200\n",
      "weighted avg       0.59      0.58      0.52     54200\n",
      "\n"
     ]
    }
   ],
   "source": [
    "# Testing Logistic Regression model on test data set\n",
    "test_tfidf = tfidf_vectorizer.transform(test['clean_plot_summary'])\n",
    "predicted_result = logistic_regression_model.predict(test_tfidf)\n",
    "\n",
    "accuracy = accuracy_score(test_solution['genres_encoded'], predicted_result)\n",
    "print(f'Accuracy of Tested solution: {accuracy:.2f}')\n",
    "classification_rep = classification_report(test_solution['genres_encoded'], predicted_result, zero_division=1)\n",
    "print('Classification Report:\\n', classification_rep)"
   ]
  },
  {
   "cell_type": "code",
   "execution_count": 14,
   "id": "830feed2-8961-47e4-8644-7d98c9dea155",
   "metadata": {},
   "outputs": [
    {
     "data": {
      "text/html": [
       "<style>#sk-container-id-3 {color: black;}#sk-container-id-3 pre{padding: 0;}#sk-container-id-3 div.sk-toggleable {background-color: white;}#sk-container-id-3 label.sk-toggleable__label {cursor: pointer;display: block;width: 100%;margin-bottom: 0;padding: 0.3em;box-sizing: border-box;text-align: center;}#sk-container-id-3 label.sk-toggleable__label-arrow:before {content: \"▸\";float: left;margin-right: 0.25em;color: #696969;}#sk-container-id-3 label.sk-toggleable__label-arrow:hover:before {color: black;}#sk-container-id-3 div.sk-estimator:hover label.sk-toggleable__label-arrow:before {color: black;}#sk-container-id-3 div.sk-toggleable__content {max-height: 0;max-width: 0;overflow: hidden;text-align: left;background-color: #f0f8ff;}#sk-container-id-3 div.sk-toggleable__content pre {margin: 0.2em;color: black;border-radius: 0.25em;background-color: #f0f8ff;}#sk-container-id-3 input.sk-toggleable__control:checked~div.sk-toggleable__content {max-height: 200px;max-width: 100%;overflow: auto;}#sk-container-id-3 input.sk-toggleable__control:checked~label.sk-toggleable__label-arrow:before {content: \"▾\";}#sk-container-id-3 div.sk-estimator input.sk-toggleable__control:checked~label.sk-toggleable__label {background-color: #d4ebff;}#sk-container-id-3 div.sk-label input.sk-toggleable__control:checked~label.sk-toggleable__label {background-color: #d4ebff;}#sk-container-id-3 input.sk-hidden--visually {border: 0;clip: rect(1px 1px 1px 1px);clip: rect(1px, 1px, 1px, 1px);height: 1px;margin: -1px;overflow: hidden;padding: 0;position: absolute;width: 1px;}#sk-container-id-3 div.sk-estimator {font-family: monospace;background-color: #f0f8ff;border: 1px dotted black;border-radius: 0.25em;box-sizing: border-box;margin-bottom: 0.5em;}#sk-container-id-3 div.sk-estimator:hover {background-color: #d4ebff;}#sk-container-id-3 div.sk-parallel-item::after {content: \"\";width: 100%;border-bottom: 1px solid gray;flex-grow: 1;}#sk-container-id-3 div.sk-label:hover label.sk-toggleable__label {background-color: #d4ebff;}#sk-container-id-3 div.sk-serial::before {content: \"\";position: absolute;border-left: 1px solid gray;box-sizing: border-box;top: 0;bottom: 0;left: 50%;z-index: 0;}#sk-container-id-3 div.sk-serial {display: flex;flex-direction: column;align-items: center;background-color: white;padding-right: 0.2em;padding-left: 0.2em;position: relative;}#sk-container-id-3 div.sk-item {position: relative;z-index: 1;}#sk-container-id-3 div.sk-parallel {display: flex;align-items: stretch;justify-content: center;background-color: white;position: relative;}#sk-container-id-3 div.sk-item::before, #sk-container-id-3 div.sk-parallel-item::before {content: \"\";position: absolute;border-left: 1px solid gray;box-sizing: border-box;top: 0;bottom: 0;left: 50%;z-index: -1;}#sk-container-id-3 div.sk-parallel-item {display: flex;flex-direction: column;z-index: 1;position: relative;background-color: white;}#sk-container-id-3 div.sk-parallel-item:first-child::after {align-self: flex-end;width: 50%;}#sk-container-id-3 div.sk-parallel-item:last-child::after {align-self: flex-start;width: 50%;}#sk-container-id-3 div.sk-parallel-item:only-child::after {width: 0;}#sk-container-id-3 div.sk-dashed-wrapped {border: 1px dashed gray;margin: 0 0.4em 0.5em 0.4em;box-sizing: border-box;padding-bottom: 0.4em;background-color: white;}#sk-container-id-3 div.sk-label label {font-family: monospace;font-weight: bold;display: inline-block;line-height: 1.2em;}#sk-container-id-3 div.sk-label-container {text-align: center;}#sk-container-id-3 div.sk-container {/* jupyter's `normalize.less` sets `[hidden] { display: none; }` but bootstrap.min.css set `[hidden] { display: none !important; }` so we also need the `!important` here to be able to override the default hidden behavior on the sphinx rendered scikit-learn.org. See: https://github.com/scikit-learn/scikit-learn/issues/21755 */display: inline-block !important;position: relative;}#sk-container-id-3 div.sk-text-repr-fallback {display: none;}</style><div id=\"sk-container-id-3\" class=\"sk-top-container\"><div class=\"sk-text-repr-fallback\"><pre>SVC(random_state=1)</pre><b>In a Jupyter environment, please rerun this cell to show the HTML representation or trust the notebook. <br />On GitHub, the HTML representation is unable to render, please try loading this page with nbviewer.org.</b></div><div class=\"sk-container\" hidden><div class=\"sk-item\"><div class=\"sk-estimator sk-toggleable\"><input class=\"sk-toggleable__control sk-hidden--visually\" id=\"sk-estimator-id-3\" type=\"checkbox\" checked><label for=\"sk-estimator-id-3\" class=\"sk-toggleable__label sk-toggleable__label-arrow\">SVC</label><div class=\"sk-toggleable__content\"><pre>SVC(random_state=1)</pre></div></div></div></div></div>"
      ],
      "text/plain": [
       "SVC(random_state=1)"
      ]
     },
     "execution_count": 14,
     "metadata": {},
     "output_type": "execute_result"
    }
   ],
   "source": [
    "from sklearn.svm import SVC\n",
    "\n",
    "# Using support vector classifier\n",
    "SVM_model = SVC(random_state=1)\n",
    "SVM_model.fit(X_train_tfidf, Y_train)"
   ]
  },
  {
   "cell_type": "code",
   "execution_count": 15,
   "id": "153398da-68ac-4464-a66f-48556b973668",
   "metadata": {},
   "outputs": [
    {
     "name": "stdout",
     "output_type": "stream",
     "text": [
      "Accuracy: 0.56\n",
      "Classification Report:\n",
      "               precision    recall  f1-score   support\n",
      "\n",
      "           1       0.49      0.84      0.62      3403\n",
      "           2       0.62      0.88      0.73      3274\n",
      "           3       0.54      0.52      0.53      1862\n",
      "           4       0.58      0.19      0.28      1268\n",
      "           5       0.73      0.48      0.58       551\n",
      "           6       0.29      0.04      0.07       398\n",
      "           7       0.61      0.09      0.16       329\n",
      "           8       0.95      0.62      0.75       258\n",
      "           9       0.58      0.03      0.06       221\n",
      "          10       0.44      0.02      0.04       196\n",
      "          11       0.75      0.09      0.17       194\n",
      "          12       0.87      0.30      0.44       183\n",
      "          13       1.00      0.00      0.00       168\n",
      "          14       0.64      0.11      0.19       162\n",
      "          15       0.80      0.16      0.27       148\n",
      "          16       1.00      0.00      0.00       126\n",
      "          17       1.00      0.01      0.02       124\n",
      "          18       0.80      0.11      0.20       108\n",
      "          19       1.00      0.00      0.00        98\n",
      "          20       1.00      0.00      0.00        81\n",
      "          21       1.00      0.00      0.00        80\n",
      "          22       1.00      0.00      0.00        69\n",
      "          23       1.00      0.00      0.00        66\n",
      "          24       1.00      0.00      0.00        61\n",
      "          25       0.88      0.48      0.62        48\n",
      "          26       0.00      0.00      1.00        45\n",
      "          27       1.00      0.03      0.06        33\n",
      "\n",
      "    accuracy                           0.56     13554\n",
      "   macro avg       0.76      0.19      0.25     13554\n",
      "weighted avg       0.60      0.56      0.50     13554\n",
      "\n"
     ]
    }
   ],
   "source": [
    "from sklearn.metrics import accuracy_score, classification_report\n",
    "y_predicted = SVM_model.predict(X_test_tfidf)\n",
    "accuracy = accuracy_score(Y_test, y_predicted)\n",
    "print(f'Accuracy: {accuracy:.2f}')\n",
    "\n",
    "classification_rep = classification_report(Y_test, y_predicted, zero_division=1)\n",
    "print('Classification Report:\\n', classification_rep)"
   ]
  },
  {
   "cell_type": "code",
   "execution_count": 16,
   "id": "6186bbe6-f0cb-4d76-9ab5-c060adba613c",
   "metadata": {},
   "outputs": [
    {
     "name": "stdout",
     "output_type": "stream",
     "text": [
      "Accuracy of Tested solution: 0.56\n",
      "Classification Report:\n",
      "               precision    recall  f1-score   support\n",
      "\n",
      "           1       0.49      0.84      0.62     13612\n",
      "           2       0.63      0.88      0.73     13096\n",
      "           3       0.55      0.52      0.53      7446\n",
      "           4       0.63      0.22      0.33      5072\n",
      "           5       0.71      0.49      0.58      2204\n",
      "           6       0.42      0.04      0.08      1590\n",
      "           7       0.71      0.11      0.20      1314\n",
      "           8       0.93      0.64      0.76      1032\n",
      "           9       0.58      0.03      0.06       883\n",
      "          10       0.63      0.03      0.06       783\n",
      "          11       0.78      0.13      0.22       775\n",
      "          12       0.82      0.24      0.38       731\n",
      "          13       1.00      0.00      0.00       672\n",
      "          14       0.55      0.09      0.15       646\n",
      "          15       0.69      0.13      0.21       590\n",
      "          16       1.00      0.01      0.01       505\n",
      "          17       0.25      0.00      0.00       498\n",
      "          18       0.85      0.12      0.21       431\n",
      "          19       0.77      0.05      0.10       391\n",
      "          20       1.00      0.00      0.00       322\n",
      "          21       1.00      0.00      0.00       318\n",
      "          22       1.00      0.00      0.00       276\n",
      "          23       1.00      0.00      0.00       264\n",
      "          24       1.00      0.00      0.00       243\n",
      "          25       0.92      0.49      0.64       193\n",
      "          26       0.60      0.02      0.03       181\n",
      "          27       1.00      0.02      0.04       132\n",
      "\n",
      "    accuracy                           0.56     54200\n",
      "   macro avg       0.76      0.19      0.22     54200\n",
      "weighted avg       0.61      0.56      0.50     54200\n",
      "\n"
     ]
    }
   ],
   "source": [
    "# Testing SVM model on test data set\n",
    "test_tfidf = tfidf_vectorizer.transform(test['clean_plot_summary'])\n",
    "predicted_result = SVM_model.predict(test_tfidf)\n",
    "\n",
    "accuracy = accuracy_score(test_solution['genres_encoded'], predicted_result)\n",
    "print(f'Accuracy of Tested solution: {accuracy:.2f}')\n",
    "classification_rep = classification_report(test_solution['genres_encoded'], predicted_result, zero_division=1)\n",
    "print('Classification Report:\\n', classification_rep)"
   ]
  }
 ],
 "metadata": {
  "kernelspec": {
   "display_name": "Python 3 (ipykernel)",
   "language": "python",
   "name": "python3"
  },
  "language_info": {
   "codemirror_mode": {
    "name": "ipython",
    "version": 3
   },
   "file_extension": ".py",
   "mimetype": "text/x-python",
   "name": "python",
   "nbconvert_exporter": "python",
   "pygments_lexer": "ipython3",
   "version": "3.12.0"
  }
 },
 "nbformat": 4,
 "nbformat_minor": 5
}
